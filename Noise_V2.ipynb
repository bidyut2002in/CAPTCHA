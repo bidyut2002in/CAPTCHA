{
 "cells": [
  {
   "cell_type": "code",
   "execution_count": 1,
   "metadata": {},
   "outputs": [],
   "source": [
    "import cv2\n",
    "import os\n",
    "import numpy as np\n",
    "import random"
   ]
  },
  {
   "cell_type": "code",
   "execution_count": 2,
   "metadata": {},
   "outputs": [],
   "source": [
    "def noisy(noise_typ,image):\n",
    "    if noise_typ == \"gauss\":\n",
    "        row,col,ch= image.shape\n",
    "        mean = 0\n",
    "        var = 0.1\n",
    "        sigma = var**0.5\n",
    "        gauss = np.random.normal(mean,sigma,(row,col,ch))\n",
    "        gauss = gauss.reshape(row,col,ch)\n",
    "        noisy = image + gauss\n",
    "        return noisy\n",
    "    elif noise_typ == \"s&p\":\n",
    "        row,col,ch = image.shape\n",
    "        s_vs_p = 0.5\n",
    "        amount = 0.004\n",
    "        out = np.copy(image)\n",
    "        # Salt mode\n",
    "        num_salt = np.ceil(amount * image.size * s_vs_p)\n",
    "        coords = [np.random.randint(0, i - 1, int(num_salt)) for i in image.shape]\n",
    "        out[coords] = 1\n",
    "\n",
    "        # Pepper mode\n",
    "        num_pepper = np.ceil(amount* image.size * (1. - s_vs_p))\n",
    "        coords = [np.random.randint(0, i - 1, int(num_pepper)) for i in image.shape]\n",
    "        out[coords] = 0\n",
    "        return out\n",
    "    elif noise_typ == \"poisson\":\n",
    "        vals = len(np.unique(image))\n",
    "        vals = 2 ** np.ceil(np.log2(vals))\n",
    "        noisy = np.random.poisson(image * vals) / float(vals)\n",
    "        return noisy\n",
    "    elif noise_typ ==\"speckle\":\n",
    "        row,col,ch = image.shape\n",
    "        gauss = np.random.randn(row,col,ch)\n",
    "        gauss = gauss.reshape(row,col,ch)        \n",
    "        noisy = image + image * gauss\n",
    "        return noisy\n",
    "    \n",
    "    \n",
    "def add_line(img, number_of_line):\n",
    "    coords = np.random.randint(512, size=(number_of_line*2+2, 2))\n",
    "    coords=tuple(map(tuple, coords))\n",
    "    current_point=1\n",
    "    for i in range(number_of_line):\n",
    "        cv2.line(img, coords[current_point], coords[current_point+1], [np.random.randint(0, 255), np.random.randint(0, 255), np.random.randint(0, 255)], 2) \n",
    "        current_point+=2\n",
    "    return img\n",
    "\n",
    "def add_circle(img, number_of_line):\n",
    "    coords = np.random.randint(512, size=(number_of_line+2, 2))\n",
    "    coords=tuple(map(tuple, coords))\n",
    "    current_point=1\n",
    "    for i in range(number_of_line):\n",
    "        cv2.circle(img, coords[current_point], np.random.randint(20), [np.random.randint(0, 255), np.random.randint(0, 255), np.random.randint(0, 255)], 2)\n",
    "        current_point+=1\n",
    "    return img"
   ]
  },
  {
   "cell_type": "code",
   "execution_count": 13,
   "metadata": {},
   "outputs": [
    {
     "name": "stderr",
     "output_type": "stream",
     "text": [
      "C:\\Users\\user\\Anaconda3\\lib\\site-packages\\ipykernel_launcher.py:19: FutureWarning: Using a non-tuple sequence for multidimensional indexing is deprecated; use `arr[tuple(seq)]` instead of `arr[seq]`. In the future this will be interpreted as an array index, `arr[np.array(seq)]`, which will result either in an error or a different result.\n",
      "C:\\Users\\user\\Anaconda3\\lib\\site-packages\\ipykernel_launcher.py:24: FutureWarning: Using a non-tuple sequence for multidimensional indexing is deprecated; use `arr[tuple(seq)]` instead of `arr[seq]`. In the future this will be interpreted as an array index, `arr[np.array(seq)]`, which will result either in an error or a different result.\n"
     ]
    }
   ],
   "source": [
    "rootdir = \"IMG_test\"\n",
    "for subdir, dirs, files in os.walk(rootdir):\n",
    "    for file in files:\n",
    "        img=cv2.imread(rootdir+\"/\"+file)\n",
    "        \n",
    "        random_number_for_blur=random.randint(5,10)\n",
    "        #print(random_number_for_blur)\n",
    "        img=cv2.blur(img,(random_number_for_blur,random_number_for_blur)) \n",
    "\n",
    "        random_number_for_line=random.randint(20,40)\n",
    "        #print(random_number_for_line)\n",
    "        img=add_line(img,random_number_for_line)\n",
    "\n",
    "        random_number_for_circle=random.randint(20,40)\n",
    "        #print(random_number_for_circle)\n",
    "        img=add_circle(img,random_number_for_circle)\n",
    "        \n",
    "        img=noisy('gauss',img)\n",
    "        img=noisy('s&p',img)\n",
    "        #img=noisy('poisson',img)\n",
    "        img=noisy('speckle',img)\n",
    "\n",
    "        cv2.imwrite('IMG_noise/'+file+'.png',img)"
   ]
  },
  {
   "cell_type": "code",
   "execution_count": null,
   "metadata": {},
   "outputs": [],
   "source": []
  },
  {
   "cell_type": "code",
   "execution_count": null,
   "metadata": {},
   "outputs": [],
   "source": []
  }
 ],
 "metadata": {
  "kernelspec": {
   "display_name": "Python 3",
   "language": "python",
   "name": "python3"
  },
  "language_info": {
   "codemirror_mode": {
    "name": "ipython",
    "version": 3
   },
   "file_extension": ".py",
   "mimetype": "text/x-python",
   "name": "python",
   "nbconvert_exporter": "python",
   "pygments_lexer": "ipython3",
   "version": "3.7.4"
  }
 },
 "nbformat": 4,
 "nbformat_minor": 2
}
