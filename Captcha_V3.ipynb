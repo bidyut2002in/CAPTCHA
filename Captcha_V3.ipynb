{
 "cells": [
  {
   "cell_type": "code",
   "execution_count": 13,
   "id": "09972dd8-1848-43c3-8d34-ee471f61eda1",
   "metadata": {},
   "outputs": [],
   "source": [
    "import cv2\n",
    "import numpy as np\n",
    "import random\n",
    "\n",
    "# Loading our images\n",
    "# Background/Input image\n",
    "for i in range(1,5001):\n",
    "    background = cv2.imread('data/'+str(i)+'.png')\n",
    "    rnd1=random.choice([k for k in range(1,2500) if k != i])\n",
    "    rnd2=random.choice([k for k in range(2501,5000) if k != i])\n",
    "    \n",
    "    # Overlay image\n",
    "    overlay_image1 = cv2.imread('data/'+str(rnd1)+'.png')\n",
    "    overlay_image2 = cv2.imread('data/'+str(rnd2)+'.png')\n",
    "    \n",
    "    # Resize the overlay image to match the bg image dimensio\n",
    "    #overlay_image = cv2.resize(overlay_image, (1000, 1000))\n",
    "    #h, w = overlay_image1.shape[:2]\n",
    "    # Create a new np array\n",
    "    #shapes = np.zeros_like(background, np.uint8)\n",
    "\n",
    "    # Put the overlay at the bottom-right corner\n",
    "    #shapes[background.shape[0]-h:, background.shape[1]-w:] = overlay_image\n",
    "\n",
    "    # Change this into bool to use it as mask\n",
    "    #mask = shapes.astype(bool)\n",
    "\n",
    "    # We'll create a loop to change the alpha\n",
    "    # value i.e transparency of the overlay\n",
    "    #for alpha in np.arange(0, 1.1, 0.1)[::-1]:\n",
    "    alpha=0.5;\n",
    "    # Create a copy of the image to work with\n",
    "    bg_img1 = background.copy()\n",
    "    # Create the overlay\n",
    "    bg_img1 = cv2.addWeighted(background, 0.5, overlay_image1, alpha, 0)\n",
    "    bg_img2 = cv2.addWeighted(bg_img1, 0.5, overlay_image2, alpha, 0)\n",
    "    # print the alpha value on the image\n",
    "    # cv2.putText(bg_img, f'Alpha: {round(alpha,1)}', (50, 200),\n",
    "    # cv2.FONT_HERSHEY_PLAIN, 8, (200, 200, 200), 7)\n",
    "\n",
    "    # resize the image before displaying\n",
    "    #bg_img = cv2.resize(bg_img, (630, 630))\n",
    "    cv2.imwrite('data_new6/'+str(i)+'.png', bg_img2)"
   ]
  },
  {
   "cell_type": "code",
   "execution_count": null,
   "id": "daf67ed9-bd0e-455a-8274-6a4094c4f872",
   "metadata": {},
   "outputs": [],
   "source": []
  }
 ],
 "metadata": {
  "kernelspec": {
   "display_name": "Python 3 (ipykernel)",
   "language": "python",
   "name": "python3"
  },
  "language_info": {
   "codemirror_mode": {
    "name": "ipython",
    "version": 3
   },
   "file_extension": ".py",
   "mimetype": "text/x-python",
   "name": "python",
   "nbconvert_exporter": "python",
   "pygments_lexer": "ipython3",
   "version": "3.11.3"
  }
 },
 "nbformat": 4,
 "nbformat_minor": 5
}
